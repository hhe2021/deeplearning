{
 "cells": [
  {
   "cell_type": "code",
   "execution_count": null,
   "metadata": {},
   "outputs": [],
   "source": [
    "%load_ext autoreload\n",
    "%autoreload 2"
   ]
  },
  {
   "cell_type": "code",
   "execution_count": null,
   "metadata": {},
   "outputs": [],
   "source": [
    "from homework import dataloader, MODEL_TYPE, train, test, create_model\n",
    "import torch\n",
    "import os"
   ]
  },
  {
   "cell_type": "code",
   "execution_count": null,
   "metadata": {},
   "outputs": [],
   "source": [
    "batch_size = 32\n",
    "trains, tests = dataloader(batch_size, None)"
   ]
  },
  {
   "cell_type": "code",
   "execution_count": null,
   "metadata": {},
   "outputs": [],
   "source": [
    "learn_rate = 0.001\n",
    "epoch = 20"
   ]
  },
  {
   "cell_type": "code",
   "execution_count": null,
   "metadata": {},
   "outputs": [],
   "source": [
    "alex = create_model(MODEL_TYPE.ALEX)\n",
    "train(alex, learn_rate, trains, epoch)\n",
    "\n",
    "hydra = create_model(MODEL_TYPE.HYDRA)\n",
    "train(hydra, learn_rate, trains, epoch)\n",
    "\n",
    "learn_rate = 0.0005\n",
    "hydra_modii = create_model(MODEL_TYPE.HYDRA)\n",
    "train(hydra_modii, learn_rate, trains, epoch)"
   ]
  },
  {
   "cell_type": "code",
   "execution_count": null,
   "metadata": {},
   "outputs": [],
   "source": [
    "for m in os.listdir('../model/'):\n",
    "    paramstr = m.rsplit('.', maxsplit=1)[0]\n",
    "    param = dict([p.split('-') for p in paramstr.split('_')])\n",
    "    model = create_model(param['model'])\n",
    "    model.load_state_dict(torch.load(f'../model/{m}'))\n",
    "    model.eval()\n",
    "    print('*'*70, m, '*'*70)\n",
    "    test(model, tests)"
   ]
  }
 ],
 "metadata": {
  "interpreter": {
   "hash": "7aca9940fa7f635b2da0a101754f8326852195b0e45d2f39fee7f5b093f6aeb5"
  },
  "kernelspec": {
   "display_name": "Python 3.9.7 ('pytorch')",
   "language": "python",
   "name": "python3"
  },
  "language_info": {
   "codemirror_mode": {
    "name": "ipython",
    "version": 3
   },
   "file_extension": ".py",
   "mimetype": "text/x-python",
   "name": "python",
   "nbconvert_exporter": "python",
   "pygments_lexer": "ipython3",
   "version": "3.9.7"
  },
  "orig_nbformat": 4
 },
 "nbformat": 4,
 "nbformat_minor": 2
}
